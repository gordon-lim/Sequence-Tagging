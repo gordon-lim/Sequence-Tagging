{
 "cells": [
  {
   "cell_type": "code",
   "execution_count": 1,
   "id": "c31bef24",
   "metadata": {},
   "outputs": [],
   "source": [
    "import localized_narratives\n",
    "import os\n",
    "import glob\n",
    "import matplotlib.pyplot as plt\n",
    "import matplotlib.image as mpimg\n",
    "import numpy as np\n",
    "import pickle as pkl\n",
    "from scipy.spatial import ConvexHull\n",
    "from matplotlib.path import Path\n",
    "from PIL import Image\n",
    "import itertools\n",
    "import string"
   ]
  },
  {
   "cell_type": "code",
   "execution_count": 2,
   "id": "1daa5ab1",
   "metadata": {},
   "outputs": [
    {
     "name": "stdout",
     "output_type": "stream",
     "text": [
      "Already downloaded: ade20k_validation_localized_narratives.jsonl\n"
     ]
    }
   ],
   "source": [
    "\"\"\"https://github.com/google/localized-narratives/blob/master/demo.py\"\"\"\n",
    "\n",
    "# This folder is where you would like to download the annotation files to and\n",
    "# where to read them from.\n",
    "local_dir = os.getcwd()\n",
    "\n",
    "# The DataLoader class allows us to download the data and read it from file.\n",
    "data_loader = localized_narratives.DataLoader(local_dir)\n",
    "\n",
    "# Downloads the annotation files (it first checks if they are not downloaded).\n",
    "data_loader.download_annotations('ade20k_val')\n",
    "\n",
    "localized_narratives = data_loader.load_annotations('ade20k_val', 5) # Change number of narratives used"
   ]
  },
  {
   "cell_type": "code",
   "execution_count": 3,
   "id": "0215e92b",
   "metadata": {},
   "outputs": [],
   "source": [
    "import string\n",
    "def clean_text(text):\n",
    "    return text.translate(str.maketrans('', '', string.punctuation)).lower()"
   ]
  },
  {
   "cell_type": "code",
   "execution_count": 4,
   "id": "d9241dfe",
   "metadata": {},
   "outputs": [],
   "source": [
    "def hull_to_name(hull):    \n",
    "    # make a polygon from the hull verticies\n",
    "    points = hull.points\n",
    "    points = np.array([[point[0]*image_width, point[1]*image_height] for point in points])\n",
    "    tupVerts = [(points[vtx,0], points[vtx,1]) for vtx in hull.vertices]\n",
    "    p = Path(tupVerts)\n",
    "    # make a canvas of coordinates corresponding to the image\n",
    "    x, y = np.meshgrid(np.arange(image_width), np.arange(image_height)) \n",
    "    x, y = x.flatten(), y.flatten()\n",
    "    points = np.vstack((x,y)).T     \n",
    "    # get points in image within hull\n",
    "    grid = p.contains_points(points)\n",
    "    mask = grid.reshape(image_height,image_width) # now you have a mask with points inside a polygon\n",
    "    # get labels at those points\n",
    "    labels_within_hull = mask*ObjectClassMasks\n",
    "    labels = labels_within_hull[np.nonzero(labels_within_hull)]\n",
    "    # get count for unique labels\n",
    "    values, counts = np.unique(labels, return_counts=True)\n",
    "    # if empty set label to 0\n",
    "    if len(counts)==0:\n",
    "        return index_ade20k['objectnames'][0] \n",
    "    # get most frequent label within hull\n",
    "    ind = np.argmax(counts)\n",
    "    label = values[ind]\n",
    "    # object name lookup with label\n",
    "    return index_ade20k['objectnames'][label - 1]"
   ]
  },
  {
   "cell_type": "code",
   "execution_count": 5,
   "id": "1ecb0e32",
   "metadata": {},
   "outputs": [],
   "source": [
    "# for printing with colors\n",
    "class bcolors:\n",
    "    HEADER = '\\033[95m'\n",
    "    OKBLUE = '\\033[94m'\n",
    "    OKCYAN = '\\033[96m'\n",
    "    OKGREEN = '\\033[92m'\n",
    "    WARNING = '\\033[93m'\n",
    "    FAIL = '\\033[91m'\n",
    "    ENDC = '\\033[0m'\n",
    "    BOLD = '\\033[1m'\n",
    "    UNDERLINE = '\\033[4m'"
   ]
  },
  {
   "cell_type": "code",
   "execution_count": 6,
   "id": "14aae0d9",
   "metadata": {},
   "outputs": [
    {
     "name": "stdout",
     "output_type": "stream",
     "text": [
      "in this/\u001b[92mwall\u001b[0m image/\u001b[92mbed\u001b[0m on/\u001b[92mbed\u001b[0m the/\u001b[92mbed\u001b[0m left/\u001b[92mbed\u001b[0m side/\u001b[92mbed\u001b[0m i/\u001b[92mbed\u001b[0m can/\u001b[92mbed\u001b[0m see/\u001b[92mbed\u001b[0m a/\u001b[92mbed\u001b[0m bed/\u001b[92mbed\u001b[0m and/\u001b[92mwindowpane\u001b[0m a window/\u001b[92mwindowpane\u001b[0m on/\u001b[92mwindowpane\u001b[0m right/\u001b[92mdesk\u001b[0m side/\u001b[92mwall\u001b[0m i/\u001b[92mdesk\u001b[0m can/\u001b[92mdesk\u001b[0m see/\u001b[92mdesk\u001b[0m some/\u001b[92mdesk\u001b[0m object/\u001b[92mdesk\u001b[0m on/\u001b[92mdesk\u001b[0m the table/\u001b[92mdesk\u001b[0m and/\u001b[92mwall\u001b[0m a/\u001b[92mdoor\u001b[0m door/\u001b[92mwall\u001b[0m at/\u001b[92mcurtain\u001b[0m the/\u001b[92mceiling\u001b[0m top/\u001b[92mlamp\u001b[0m i/\u001b[92mlamp\u001b[0m can/\u001b[92mlamp\u001b[0m see/\u001b[92mlamp\u001b[0m the/\u001b[92mlamp\u001b[0m light/\u001b[92mlamp\u001b[0m \n",
      "\n",
      "in/\u001b[92mwall\u001b[0m this/\u001b[92mcounter\u001b[0m image/\u001b[92mcounter\u001b[0m there/\u001b[92mcounter\u001b[0m is/\u001b[92mcounter\u001b[0m a table/\u001b[92mcounter\u001b[0m on/\u001b[92mcounter\u001b[0m the table/\u001b[92mcounter\u001b[0m there/\u001b[92mfood\u001b[0m are/\u001b[92mcounter\u001b[0m food/\u001b[92mcounter\u001b[0m recipes/\u001b[92mcounter\u001b[0m and/\u001b[92mcounter\u001b[0m display/\u001b[92mprice\u001b[0m boards/\u001b[92mperson\u001b[0m there/\u001b[92mperson\u001b[0m are/\u001b[92mwall\u001b[0m two/\u001b[92mperson\u001b[0m persons/\u001b[92mperson\u001b[0m standing/\u001b[92mwall\u001b[0m there/\u001b[92mperson\u001b[0m is/\u001b[92mperson\u001b[0m a/\u001b[92mwall\u001b[0m glass/\u001b[92mperson\u001b[0m there/\u001b[92mwall\u001b[0m is/\u001b[92m\u001b[0m a/\u001b[92m\u001b[0m wall/\u001b[92mwall\u001b[0m with/\u001b[92mwall\u001b[0m the curtain/\u001b[92mwall\u001b[0m at/\u001b[92mwall\u001b[0m the/\u001b[92mwall\u001b[0m back side/\u001b[92mwall\u001b[0m \n",
      "\n",
      "this/\u001b[92mbathtub\u001b[0m image/\u001b[92mbathtub\u001b[0m is/\u001b[92mwall\u001b[0m taken/\u001b[92mbathtub\u001b[0m indoors/\u001b[92mbathtub\u001b[0m on/\u001b[92mwall\u001b[0m the/\u001b[92mdoor\u001b[0m right side/\u001b[92mdoor\u001b[0m of/\u001b[92mdoor\u001b[0m the/\u001b[92mdoor\u001b[0m image/\u001b[92mdoor\u001b[0m there/\u001b[92mdoor\u001b[0m is/\u001b[92mdoor\u001b[0m a/\u001b[92mdoor\u001b[0m door/\u001b[92mdoor\u001b[0m in/\u001b[92mwall\u001b[0m the/\u001b[92mwindowpane\u001b[0m background/\u001b[92mwall\u001b[0m we can see the/\u001b[92mwall\u001b[0m wall/\u001b[92mwall\u001b[0m there/\u001b[92mwall\u001b[0m is/\u001b[92mwindowpane\u001b[0m a/\u001b[92mwindowpane\u001b[0m window/\u001b[92mwindowpane\u001b[0m there/\u001b[92mwall\u001b[0m is/\u001b[92mrod\u001b[0m !!!Cannot make ConvexHull for a !!!\n",
      "a/\u001b[92mrod\u001b[0m metal/\u001b[92mwindowpane\u001b[0m rod we/\u001b[92mwall\u001b[0m can/\u001b[92mwall\u001b[0m see the/\u001b[92mshower\u001b[0m shower there/\u001b[92mwall\u001b[0m two/\u001b[92mwall\u001b[0m bottles/\u001b[92mbottle\u001b[0m on/\u001b[92mwall\u001b[0m the/\u001b[92mwall\u001b[0m shelves/\u001b[92mwall\u001b[0m there/\u001b[92mwall\u001b[0m is a/\u001b[92mwall\u001b[0m bathtub/\u001b[92mbathtub\u001b[0m we/\u001b[92mwall\u001b[0m can see the/\u001b[92mwall\u001b[0m handles there/\u001b[92mwall\u001b[0m is/\u001b[92mdoor\u001b[0m a/\u001b[92mwall\u001b[0m tap/\u001b[92mwall\u001b[0m on/\u001b[92mwall\u001b[0m the/\u001b[92mwall\u001b[0m left/\u001b[92mwall\u001b[0m side/\u001b[92msink\u001b[0m of/\u001b[92mwall\u001b[0m the/\u001b[92mwall\u001b[0m image/\u001b[92mwall\u001b[0m there/\u001b[92mwall\u001b[0m is/\u001b[92mwall\u001b[0m a/\u001b[92mwall\u001b[0m wall we/\u001b[92mwall\u001b[0m can/\u001b[92msink\u001b[0m see the/\u001b[92msink\u001b[0m sink/\u001b[92msink\u001b[0m there/\u001b[92mtoilet\u001b[0m is/\u001b[92mtoilet\u001b[0m a/\u001b[92mtoilet\u001b[0m toilet/\u001b[92mtoilet\u001b[0m seat/\u001b[92mtoilet\u001b[0m at/\u001b[92mfloor\u001b[0m the bottom/\u001b[92mfloor\u001b[0m of/\u001b[92mfloor\u001b[0m the/\u001b[92mfloor\u001b[0m image there/\u001b[92mfloor\u001b[0m is/\u001b[92mfloor\u001b[0m the floor/\u001b[92mfloor\u001b[0m \n",
      "\n",
      "in this picture i/\u001b[92mwardrobe\u001b[0m can/\u001b[92mbed\u001b[0m see/\u001b[92mbed\u001b[0m a/\u001b[92mbed\u001b[0m bed/\u001b[92mblanket\u001b[0m having/\u001b[92mbed\u001b[0m some/\u001b[92mcushion\u001b[0m pillows/\u001b[92mcushion\u001b[0m blanket/\u001b[92mblanket\u001b[0m on the bed a bag is placed/\u001b[92mwall\u001b[0m behind/\u001b[92mwall\u001b[0m there/\u001b[92mwall\u001b[0m is/\u001b[92mwall\u001b[0m a/\u001b[92mwall\u001b[0m designed/\u001b[92mwall\u001b[0m wall/\u001b[92mwall\u001b[0m and/\u001b[92mwall\u001b[0m some/\u001b[92mlamp\u001b[0m objects/\u001b[92mwall\u001b[0m are/\u001b[92mwall\u001b[0m placed/\u001b[92mwall\u001b[0m on/\u001b[92mpainting\u001b[0m the/\u001b[92mlamp\u001b[0m table/\u001b[92mcushion\u001b[0m \n",
      "\n",
      "in this/\u001b[92msky\u001b[0m image/\u001b[92msea\u001b[0m i can see water/\u001b[92msea\u001b[0m and/\u001b[92msea\u001b[0m i/\u001b[92msea\u001b[0m can/\u001b[92msea\u001b[0m also/\u001b[92msea\u001b[0m see/\u001b[92mtree\u001b[0m something/\u001b[92mmountain\u001b[0m looking/\u001b[92msea\u001b[0m like/\u001b[92msea\u001b[0m trees/\u001b[92mmountain\u001b[0m mountains/\u001b[92mmountain\u001b[0m and/\u001b[92msea\u001b[0m bottom/\u001b[92msand\u001b[0m is in/\u001b[92msand\u001b[0m yellow/\u001b[92msand\u001b[0m color/\u001b[92msand\u001b[0m and/\u001b[92msand\u001b[0m in the background/\u001b[92msea\u001b[0m i/\u001b[92msky\u001b[0m can/\u001b[92msky\u001b[0m see a clear blue sky/\u001b[92msky\u001b[0m \n",
      "\n"
     ]
    }
   ],
   "source": [
    "# Get object name lookup table\n",
    "with open('/Volumes/gordonssd/ADE20K_2021_17_01/index_ade20k.pkl', 'rb') as f:\n",
    "    index_ade20k = pkl.load(f)\n",
    "    \n",
    "for loc_narr in localized_narratives:\n",
    "    image_id = loc_narr.image_id\n",
    "    path_to_image = f'/Volumes/gordonssd/ADE20K_2021_17_01/images/ADE/validation/*/*/{image_id}.jpg'\n",
    "    path_to_image_seg = f'/Volumes/gordonssd/ADE20K_2021_17_01/images/ADE/validation/*/*/{image_id}_seg.png'\n",
    "    path_to_image_json = f'/Volumes/gordonssd/ADE20K_2021_17_01/images/ADE/validation/*/*/{image_id}.json'\n",
    "    # Get image\n",
    "    for filename in glob.glob(path_to_image):\n",
    "        path_to_image = filename\n",
    "    image = mpimg.imread(path_to_image)\n",
    "    # Get image segmentation\n",
    "    for filename in glob.glob(path_to_image_seg):\n",
    "        path_to_image_seg = filename\n",
    "    image_seg = mpimg.imread(path_to_image_seg)\n",
    "    # Get image height, width\n",
    "    image_height = image.shape[0]\n",
    "    image_width = image.shape[1] \n",
    "    # Get Object Labels\n",
    "    with Image.open(path_to_image_seg) as io:\n",
    "        seg = np.array(io);\n",
    "    R = seg[:,:,0];\n",
    "    G = seg[:,:,1];\n",
    "    B = seg[:,:,2];\n",
    "    ObjectClassMasks = (R/10).astype(np.int32)*256+(G.astype(np.int32));\n",
    "    # Concatenate all trace segments\n",
    "    traces = list(itertools.chain.from_iterable(loc_narr.traces))\n",
    "    # Align traces to word #\n",
    "    # Get list of word_trace_align objects\n",
    "    save_word = ''\n",
    "    for word in loc_narr.timed_caption:\n",
    "        w = save_word + word['utterance']\n",
    "        w = clean_text(w)\n",
    "        save_word = ''\n",
    "        # Check if start_time match end_time\n",
    "        if (word['start_time']==word['end_time']):\n",
    "            # Make phrase with next word\n",
    "            save_word = word['utterance'] + ' '\n",
    "            continue\n",
    "        # Convert (start_time, end_time) to trace coordinates that fall within the time window\n",
    "        start_time = word['start_time']\n",
    "        end_time = word['end_time']\n",
    "        # Filter trace_seg for items with t value within start_time:end_time\n",
    "        points = list(filter(lambda coord: start_time<=coord['t']<= end_time, traces))\n",
    "        points = np.array([[point['x'], point['y']] for point in points])\n",
    "        try:\n",
    "            hull = ConvexHull(points)\n",
    "        except:\n",
    "            print(\"!!!Cannot make ConvexHull for\", w, \"!!!\")\n",
    "        # Get most frequent label within hull\n",
    "        tag = hull_to_name(hull)\n",
    "        # one tag may have multiple words eg. \tperson;individual;someone;somebody;mortal;soul\n",
    "        # taking only first\n",
    "        tag = tag.split()[0]\n",
    "        tag = clean_text(tag)\n",
    "        # Print word trace alignment\n",
    "        print(w+'/'+bcolors.OKGREEN + tag + bcolors.ENDC, end =\" \")\n",
    "    print('\\n')"
   ]
  },
  {
   "cell_type": "markdown",
   "id": "95daeb90",
   "metadata": {},
   "source": [
    "Edge case: horizontal/vertical traces   \n",
    "ADE_val_00000078  \n",
    "This image is taken indoors. On the right side of the image there is a door. In the background we can see the wall. There is a window. There is <b>a*</b> metal rod. We can see the shower. There two bottles on the shelves. There is a bathtub. We can see the handles. There is a tap. On the left side of the image there is a wall. We can see the sink. There is a toilet seat. At the bottom of the image there is the floor.\n",
    "```\n",
    "[[0.4303 0.1629]\n",
    " [0.381  0.1629]\n",
    " [0.3131 0.1629]\n",
    " [0.2468 0.1629]\n",
    " [0.2111 0.1629]\n",
    " [0.2111 0.1629]]\n",
    "```\n",
    "Cannot make ConvexHull. For now just copy previous."
   ]
  },
  {
   "cell_type": "code",
   "execution_count": null,
   "id": "c614df38",
   "metadata": {},
   "outputs": [],
   "source": []
  }
 ],
 "metadata": {
  "kernelspec": {
   "display_name": "Python 3 (ipykernel)",
   "language": "python",
   "name": "python3"
  },
  "language_info": {
   "codemirror_mode": {
    "name": "ipython",
    "version": 3
   },
   "file_extension": ".py",
   "mimetype": "text/x-python",
   "name": "python",
   "nbconvert_exporter": "python",
   "pygments_lexer": "ipython3",
   "version": "3.9.6"
  }
 },
 "nbformat": 4,
 "nbformat_minor": 5
}
