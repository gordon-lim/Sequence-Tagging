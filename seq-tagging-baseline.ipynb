{
 "cells": [
  {
   "cell_type": "markdown",
   "id": "a744b0f7",
   "metadata": {},
   "source": [
    "Baseline tagging code for multiple narratives"
   ]
  },
  {
   "cell_type": "code",
   "execution_count": 1,
   "id": "c31bef24",
   "metadata": {},
   "outputs": [],
   "source": [
    "import localized_narratives\n",
    "import os\n",
    "import glob\n",
    "import matplotlib.pyplot as plt\n",
    "import matplotlib.image as mpimg\n",
    "import numpy as np\n",
    "import pickle as pkl\n",
    "from scipy.spatial import ConvexHull\n",
    "from matplotlib.path import Path\n",
    "from PIL import Image\n",
    "import itertools\n",
    "import string"
   ]
  },
  {
   "cell_type": "code",
   "execution_count": 2,
   "id": "1daa5ab1",
   "metadata": {},
   "outputs": [
    {
     "name": "stdout",
     "output_type": "stream",
     "text": [
      "Already downloaded: ade20k_validation_localized_narratives.jsonl\n"
     ]
    }
   ],
   "source": [
    "\"\"\"https://github.com/google/localized-narratives/blob/master/demo.py\"\"\"\n",
    "\n",
    "# This folder is where you would like to download the annotation files to and\n",
    "# where to read them from.\n",
    "local_dir = os.getcwd()\n",
    "\n",
    "# The DataLoader class allows us to download the data and read it from file.\n",
    "data_loader = localized_narratives.DataLoader(local_dir)\n",
    "\n",
    "# Downloads the annotation files (it first checks if they are not downloaded).\n",
    "data_loader.download_annotations('ade20k_val')\n",
    "\n",
    "loc_narrs = data_loader.load_annotations('ade20k_val', 5) # Change number of narratives used"
   ]
  },
  {
   "cell_type": "code",
   "execution_count": 3,
   "id": "6307270b",
   "metadata": {},
   "outputs": [],
   "source": [
    "def clean_text(text):\n",
    "    return text.translate(str.maketrans('', '', string.punctuation)).lower()"
   ]
  },
  {
   "cell_type": "code",
   "execution_count": 4,
   "id": "d9241dfe",
   "metadata": {},
   "outputs": [],
   "source": [
    "def hull_to_name(hull):    \n",
    "    # make a polygon from the hull verticies\n",
    "    points = hull.points\n",
    "    points = np.array([[point[0]*image_width, point[1]*image_height] for point in points])\n",
    "    tupVerts = [(points[vtx,0], points[vtx,1]) for vtx in hull.vertices]\n",
    "    p = Path(tupVerts)\n",
    "    # make a canvas of coordinates corresponding to the image\n",
    "    x, y = np.meshgrid(np.arange(image_width), np.arange(image_height)) \n",
    "    x, y = x.flatten(), y.flatten()\n",
    "    points = np.vstack((x,y)).T     \n",
    "    # get points in image within hull\n",
    "    grid = p.contains_points(points)\n",
    "    mask = grid.reshape(image_height,image_width) # now you have a mask with points inside a polygon\n",
    "    # get labels at those points\n",
    "    labels_within_hull = mask*ObjectClassMasks\n",
    "    labels = labels_within_hull[np.nonzero(labels_within_hull)]\n",
    "    # get count for unique labels\n",
    "    values, counts = np.unique(labels, return_counts=True)\n",
    "    # Edge case: some utterances the traces entirely out of the image\n",
    "    # if empty set label to 0\n",
    "    if len(counts)==0:\n",
    "        return index_ade20k['objectnames'][0] \n",
    "    # get most frequent label within hull\n",
    "    ind = np.argmax(counts)\n",
    "    label = values[ind]\n",
    "    # object name lookup with label\n",
    "    return index_ade20k['objectnames'][label - 1]"
   ]
  },
  {
   "cell_type": "code",
   "execution_count": 5,
   "id": "1ecb0e32",
   "metadata": {},
   "outputs": [],
   "source": [
    "# for printing with colors\n",
    "class bcolors:\n",
    "    HEADER = '\\033[95m'\n",
    "    OKBLUE = '\\033[94m'\n",
    "    OKCYAN = '\\033[96m'\n",
    "    OKGREEN = '\\033[92m'\n",
    "    WARNING = '\\033[93m'\n",
    "    FAIL = '\\033[91m'\n",
    "    ENDC = '\\033[0m'\n",
    "    BOLD = '\\033[1m'\n",
    "    UNDERLINE = '\\033[4m'"
   ]
  },
  {
   "cell_type": "code",
   "execution_count": 6,
   "id": "c51426cc",
   "metadata": {},
   "outputs": [],
   "source": [
    "# Get object name lookup table\n",
    "with open('/Volumes/gordonssd/ADE20K_2021_17_01/index_ade20k.pkl', 'rb') as f:\n",
    "    index_ade20k = pkl.load(f)\n",
    "# Replace \"-\" with \"other\"\n",
    "index_ade20k['objectnames'][0] = \"other\""
   ]
  },
  {
   "cell_type": "code",
   "execution_count": 7,
   "id": "b57015ea",
   "metadata": {},
   "outputs": [
    {
     "name": "stdout",
     "output_type": "stream",
     "text": [
      "in this/\u001b[92mwall\u001b[0m image/\u001b[92mbed\u001b[0m on/\u001b[92mbed\u001b[0m the/\u001b[92mbed\u001b[0m left/\u001b[92mbed\u001b[0m side/\u001b[92mbed\u001b[0m i/\u001b[92mbed\u001b[0m can/\u001b[92mbed\u001b[0m see/\u001b[92mbed\u001b[0m a/\u001b[92mbed\u001b[0m bed/\u001b[92mbed\u001b[0m and/\u001b[92mwindowpane\u001b[0m a window/\u001b[92mwindowpane\u001b[0m on/\u001b[92mwindowpane\u001b[0m right/\u001b[92mdesk\u001b[0m side/\u001b[92mwall\u001b[0m i/\u001b[92mdesk\u001b[0m can/\u001b[92mdesk\u001b[0m see/\u001b[92mdesk\u001b[0m some/\u001b[92mdesk\u001b[0m object/\u001b[92mdesk\u001b[0m on/\u001b[92mdesk\u001b[0m the table/\u001b[92mdesk\u001b[0m and/\u001b[92mwall\u001b[0m a/\u001b[92mdoor\u001b[0m door/\u001b[92mwall\u001b[0m at/\u001b[92mcurtain\u001b[0m the/\u001b[92mceiling\u001b[0m top/\u001b[92mlamp\u001b[0m i/\u001b[92mlamp\u001b[0m can/\u001b[92mlamp\u001b[0m see/\u001b[92mlamp\u001b[0m the/\u001b[92mlamp\u001b[0m light/\u001b[92mlamp\u001b[0m \n",
      "\n",
      "in/\u001b[92mwall\u001b[0m this/\u001b[92mcounter\u001b[0m image/\u001b[92mcounter\u001b[0m there/\u001b[92mcounter\u001b[0m is/\u001b[92mcounter\u001b[0m a table/\u001b[92mcounter\u001b[0m on/\u001b[92mcounter\u001b[0m the table/\u001b[92mcounter\u001b[0m there/\u001b[92mfood\u001b[0m are/\u001b[92mcounter\u001b[0m food/\u001b[92mcounter\u001b[0m recipes/\u001b[92mcounter\u001b[0m and/\u001b[92mcounter\u001b[0m display/\u001b[92mprice\u001b[0m boards/\u001b[92mperson\u001b[0m there/\u001b[92mperson\u001b[0m are/\u001b[92mwall\u001b[0m two/\u001b[92mperson\u001b[0m persons/\u001b[92mperson\u001b[0m standing/\u001b[92mwall\u001b[0m there/\u001b[92mperson\u001b[0m is/\u001b[92mperson\u001b[0m a/\u001b[92mwall\u001b[0m glass/\u001b[92mperson\u001b[0m there/\u001b[92mwall\u001b[0m is/\u001b[92mother\u001b[0m a/\u001b[92mother\u001b[0m wall/\u001b[92mwall\u001b[0m with/\u001b[92mwall\u001b[0m the curtain/\u001b[92mwall\u001b[0m at/\u001b[92mwall\u001b[0m the/\u001b[92mwall\u001b[0m back side/\u001b[92mwall\u001b[0m \n",
      "\n",
      "this/\u001b[92mbathtub\u001b[0m image/\u001b[92mbathtub\u001b[0m is/\u001b[92mwall\u001b[0m taken/\u001b[92mbathtub\u001b[0m indoors/\u001b[92mbathtub\u001b[0m on/\u001b[92mwall\u001b[0m the/\u001b[92mdoor\u001b[0m right side/\u001b[92mdoor\u001b[0m of/\u001b[92mdoor\u001b[0m the/\u001b[92mdoor\u001b[0m image/\u001b[92mdoor\u001b[0m there/\u001b[92mdoor\u001b[0m is/\u001b[92mdoor\u001b[0m a/\u001b[92mdoor\u001b[0m door/\u001b[92mdoor\u001b[0m in/\u001b[92mwall\u001b[0m the/\u001b[92mwindowpane\u001b[0m background/\u001b[92mwall\u001b[0m we can see the/\u001b[92mwall\u001b[0m wall/\u001b[92mwall\u001b[0m there/\u001b[92mwall\u001b[0m is/\u001b[92mwindowpane\u001b[0m a/\u001b[92mwindowpane\u001b[0m window/\u001b[92mwindowpane\u001b[0m there/\u001b[92mwall\u001b[0m is/\u001b[92mrod\u001b[0m !!!Cannot make ConvexHull for a !!!\n",
      "a/\u001b[92mrod\u001b[0m metal/\u001b[92mwindowpane\u001b[0m rod we/\u001b[92mwall\u001b[0m can/\u001b[92mwall\u001b[0m see the/\u001b[92mshower\u001b[0m shower there/\u001b[92mwall\u001b[0m two/\u001b[92mwall\u001b[0m bottles/\u001b[92mbottle\u001b[0m on/\u001b[92mwall\u001b[0m the/\u001b[92mwall\u001b[0m shelves/\u001b[92mwall\u001b[0m there/\u001b[92mwall\u001b[0m is a/\u001b[92mwall\u001b[0m bathtub/\u001b[92mbathtub\u001b[0m we/\u001b[92mwall\u001b[0m can see the/\u001b[92mwall\u001b[0m handles there/\u001b[92mwall\u001b[0m is/\u001b[92mdoor\u001b[0m a/\u001b[92mwall\u001b[0m tap/\u001b[92mwall\u001b[0m on/\u001b[92mwall\u001b[0m the/\u001b[92mwall\u001b[0m left/\u001b[92mwall\u001b[0m side/\u001b[92msink\u001b[0m of/\u001b[92mwall\u001b[0m the/\u001b[92mwall\u001b[0m image/\u001b[92mwall\u001b[0m there/\u001b[92mwall\u001b[0m is/\u001b[92mwall\u001b[0m a/\u001b[92mwall\u001b[0m wall we/\u001b[92mwall\u001b[0m can/\u001b[92msink\u001b[0m see the/\u001b[92msink\u001b[0m sink/\u001b[92msink\u001b[0m there/\u001b[92mtoilet\u001b[0m is/\u001b[92mtoilet\u001b[0m a/\u001b[92mtoilet\u001b[0m toilet/\u001b[92mtoilet\u001b[0m seat/\u001b[92mtoilet\u001b[0m at/\u001b[92mfloor\u001b[0m the bottom/\u001b[92mfloor\u001b[0m of/\u001b[92mfloor\u001b[0m the/\u001b[92mfloor\u001b[0m image there/\u001b[92mfloor\u001b[0m is/\u001b[92mfloor\u001b[0m the floor/\u001b[92mfloor\u001b[0m \n",
      "\n",
      "in this picture i/\u001b[92mwardrobe\u001b[0m can/\u001b[92mbed\u001b[0m see/\u001b[92mbed\u001b[0m a/\u001b[92mbed\u001b[0m bed/\u001b[92mblanket\u001b[0m having/\u001b[92mbed\u001b[0m some/\u001b[92mcushion\u001b[0m pillows/\u001b[92mcushion\u001b[0m blanket/\u001b[92mblanket\u001b[0m on the bed a bag is placed/\u001b[92mwall\u001b[0m behind/\u001b[92mwall\u001b[0m there/\u001b[92mwall\u001b[0m is/\u001b[92mwall\u001b[0m a/\u001b[92mwall\u001b[0m designed/\u001b[92mwall\u001b[0m wall/\u001b[92mwall\u001b[0m and/\u001b[92mwall\u001b[0m some/\u001b[92mlamp\u001b[0m objects/\u001b[92mwall\u001b[0m are/\u001b[92mwall\u001b[0m placed/\u001b[92mwall\u001b[0m on/\u001b[92mpainting\u001b[0m the/\u001b[92mlamp\u001b[0m table/\u001b[92mcushion\u001b[0m \n",
      "\n",
      "in this/\u001b[92msky\u001b[0m image/\u001b[92msea\u001b[0m i can see water/\u001b[92msea\u001b[0m and/\u001b[92msea\u001b[0m i/\u001b[92msea\u001b[0m can/\u001b[92msea\u001b[0m also/\u001b[92msea\u001b[0m see/\u001b[92mtree\u001b[0m something/\u001b[92mmountain\u001b[0m looking/\u001b[92msea\u001b[0m like/\u001b[92msea\u001b[0m trees/\u001b[92mmountain\u001b[0m mountains/\u001b[92mmountain\u001b[0m and/\u001b[92msea\u001b[0m bottom/\u001b[92msand\u001b[0m is in/\u001b[92msand\u001b[0m yellow/\u001b[92msand\u001b[0m color/\u001b[92msand\u001b[0m and/\u001b[92msand\u001b[0m in the background/\u001b[92msea\u001b[0m i/\u001b[92msky\u001b[0m can/\u001b[92msky\u001b[0m see a clear blue sky/\u001b[92msky\u001b[0m \n",
      "\n"
     ]
    }
   ],
   "source": [
    "raw_word_documents = []\n",
    "raw_labels_documents = []\n",
    "    \n",
    "for loc_narr in loc_narrs:\n",
    "    raw_labels_doc = ''\n",
    "    raw_word_documents.append(clean_text(loc_narr.caption))\n",
    "    image_id = loc_narr.image_id\n",
    "    path_to_image = f'/Volumes/gordonssd/ADE20K_2021_17_01/images/ADE/validation/*/*/{image_id}.jpg'\n",
    "    path_to_image_seg = f'/Volumes/gordonssd/ADE20K_2021_17_01/images/ADE/validation/*/*/{image_id}_seg.png'\n",
    "    path_to_image_json = f'/Volumes/gordonssd/ADE20K_2021_17_01/images/ADE/validation/*/*/{image_id}.json'\n",
    "    # Get image\n",
    "    for filename in glob.glob(path_to_image):\n",
    "        path_to_image = filename\n",
    "    image = mpimg.imread(path_to_image)\n",
    "    # Get image segmentation\n",
    "    for filename in glob.glob(path_to_image_seg):\n",
    "        path_to_image_seg = filename\n",
    "    image_seg = mpimg.imread(path_to_image_seg)\n",
    "    # Get image height, width\n",
    "    image_height = image.shape[0]\n",
    "    image_width = image.shape[1] \n",
    "    # Get Object Labels\n",
    "    with Image.open(path_to_image_seg) as io:\n",
    "        seg = np.array(io);\n",
    "    R = seg[:,:,0];\n",
    "    G = seg[:,:,1];\n",
    "    B = seg[:,:,2];\n",
    "    ObjectClassMasks = (R/10).astype(np.int32)*256+(G.astype(np.int32));\n",
    "    # Concatenate all trace segments\n",
    "    traces = list(itertools.chain.from_iterable(loc_narr.traces))\n",
    "    # Align traces to word #\n",
    "    # Get list of word_trace_align objects\n",
    "    save_word = ''\n",
    "    for word in loc_narr.timed_caption:\n",
    "        w = save_word + word['utterance']\n",
    "        w = clean_text(w)\n",
    "        save_word = ''\n",
    "        # Check if start_time match end_time\n",
    "        if (word['start_time']==word['end_time']):\n",
    "            # Make phrase with next word\n",
    "            save_word = word['utterance'] + ' '\n",
    "            continue\n",
    "        # Convert (start_time, end_time) to trace coordinates that fall within the time window\n",
    "        start_time = word['start_time']\n",
    "        end_time = word['end_time']\n",
    "        # Filter trace_seg for items with t value within start_time:end_time\n",
    "        points = list(filter(lambda coord: start_time<=coord['t']<= end_time, traces))\n",
    "        points = np.array([[point['x'], point['y']] for point in points])\n",
    "        try:\n",
    "            hull = ConvexHull(points)\n",
    "        except:\n",
    "            print(\"!!!Cannot make ConvexHull for\", w, \"!!!\")\n",
    "        # Get most frequent label within hull\n",
    "        tag = hull_to_name(hull)\n",
    "        # one tag may have multiple words eg. \tperson;individual;someone;somebody;mortal;soul\n",
    "        # taking only first\n",
    "        tag = tag.split()[0]\n",
    "        tag = clean_text(tag)\n",
    "        # Print word trace alignment\n",
    "        print(w+'/'+bcolors.OKGREEN + tag + bcolors.ENDC, end =\" \")\n",
    "        # Add labels to labels document\n",
    "        for i in range(len(w.split())):\n",
    "            raw_labels_doc += tag + ' '\n",
    "    raw_labels_documents.append(raw_labels_doc.strip())\n",
    "    print('\\n')"
   ]
  },
  {
   "cell_type": "code",
   "execution_count": 8,
   "id": "e064ba6d",
   "metadata": {},
   "outputs": [
    {
     "data": {
      "text/plain": [
       "['wall wall bed bed bed bed bed bed bed bed bed bed windowpane windowpane windowpane windowpane desk wall desk desk desk desk desk desk desk desk wall door wall curtain ceiling lamp lamp lamp lamp lamp lamp',\n",
       " 'wall counter counter counter counter counter counter counter counter counter food counter counter counter counter price person person wall person person wall person person wall person wall other other wall wall wall wall wall wall wall wall',\n",
       " 'bathtub bathtub wall bathtub bathtub wall door door door door door door door door door door wall windowpane wall wall wall wall wall wall wall windowpane windowpane windowpane wall rod rod windowpane wall wall wall shower shower wall wall wall bottle wall wall wall wall wall wall bathtub wall wall wall wall wall wall door wall wall wall wall wall sink wall wall wall wall wall wall wall wall sink sink sink sink toilet toilet toilet toilet toilet floor floor floor floor floor floor floor floor floor floor',\n",
       " 'wardrobe wardrobe wardrobe wardrobe bed bed bed blanket bed cushion cushion blanket wall wall wall wall wall wall wall wall wall wall wall wall wall wall lamp wall wall wall painting lamp cushion',\n",
       " 'sky sky sea sea sea sea sea sea sea sea sea tree mountain sea sea mountain mountain sea sand sand sand sand sand sand sea sea sea sky sky sky sky sky sky sky']"
      ]
     },
     "execution_count": 8,
     "metadata": {},
     "output_type": "execute_result"
    }
   ],
   "source": [
    "raw_labels_documents"
   ]
  },
  {
   "cell_type": "code",
   "execution_count": 9,
   "id": "1b110464",
   "metadata": {},
   "outputs": [
    {
     "data": {
      "text/plain": [
       "['in this image on the left side i can see a bed and a window on right side i can see some object on the table and a door at the top i can see the light',\n",
       " 'in this image there is a table on the table there are food recipes and display boards there are two persons standing there is a glass there is a wall with the curtain at the back side',\n",
       " 'this image is taken indoors on the right side of the image there is a door in the background we can see the wall there is a window there is a metal rod we can see the shower there two bottles on the shelves there is a bathtub we can see the handles there is a tap on the left side of the image there is a wall we can see the sink there is a toilet seat at the bottom of the image there is the floor',\n",
       " 'in this picture i can see a bed having some pillows blanket on the bed a bag is placed behind there is a designed wall and some objects are placed on the table',\n",
       " 'in this image i can see water and i can also see something looking like trees mountains and bottom is in yellow color and in the background i can see a clear blue sky']"
      ]
     },
     "execution_count": 9,
     "metadata": {},
     "output_type": "execute_result"
    }
   ],
   "source": [
    "raw_word_documents"
   ]
  },
  {
   "cell_type": "markdown",
   "id": "ddb641e0",
   "metadata": {},
   "source": [
    "Edge case: horizontal/vertical traces   \n",
    "ADE_val_00000078  \n",
    "This image is taken indoors. On the right side of the image there is a door. In the background we can see the wall. There is a window. There is <b>a*</b> metal rod. We can see the shower. There two bottles on the shelves. There is a bathtub. We can see the handles. There is a tap. On the left side of the image there is a wall. We can see the sink. There is a toilet seat. At the bottom of the image there is the floor.\n",
    "```\n",
    "[[0.4303 0.1629]\n",
    " [0.381  0.1629]\n",
    " [0.3131 0.1629]\n",
    " [0.2468 0.1629]\n",
    " [0.2111 0.1629]\n",
    " [0.2111 0.1629]]\n",
    "```\n",
    "Cannot make ConvexHull. For now just copy previous."
   ]
  }
 ],
 "metadata": {
  "kernelspec": {
   "display_name": "Python 3 (ipykernel)",
   "language": "python",
   "name": "python3"
  },
  "language_info": {
   "codemirror_mode": {
    "name": "ipython",
    "version": 3
   },
   "file_extension": ".py",
   "mimetype": "text/x-python",
   "name": "python",
   "nbconvert_exporter": "python",
   "pygments_lexer": "ipython3",
   "version": "3.9.6"
  }
 },
 "nbformat": 4,
 "nbformat_minor": 5
}
